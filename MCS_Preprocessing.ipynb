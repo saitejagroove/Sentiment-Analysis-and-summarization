{
 "cells": [
  {
   "cell_type": "code",
   "execution_count": 1,
   "metadata": {},
   "outputs": [],
   "source": [
    "import pandas as pd\n",
    "import gzip\n",
    "\n",
    "def parse(path):\n",
    "  g = gzip.open(path, 'rb')\n",
    "  for l in g:\n",
    "    yield eval(l)\n",
    "\n",
    "def getDF(path):\n",
    "  i = 0\n",
    "  df = {}\n",
    "  for d in parse(path):\n",
    "    df[i] = d\n",
    "    i += 1\n",
    "  return pd.DataFrame.from_dict(df, orient='index')\n",
    "\n",
    "df = getDF(r\"C:\\Users\\srika\\OneDrive\\Desktop\\Fall19\\DeepLearningForNLP\\Project\\Datasets\\Amazon_with_data\\reviews_Toys_and_Games_5.json.gz\")"
   ]
  },
  {
   "cell_type": "code",
   "execution_count": 2,
   "metadata": {},
   "outputs": [
    {
     "data": {
      "text/plain": [
       "11924"
      ]
     },
     "execution_count": 2,
     "metadata": {},
     "output_type": "execute_result"
    }
   ],
   "source": [
    "len(df[\"asin\"].unique())"
   ]
  },
  {
   "cell_type": "code",
   "execution_count": 3,
   "metadata": {},
   "outputs": [
    {
     "data": {
      "text/plain": [
       "167597"
      ]
     },
     "execution_count": 3,
     "metadata": {},
     "output_type": "execute_result"
    }
   ],
   "source": [
    "len(df)"
   ]
  },
  {
   "cell_type": "code",
   "execution_count": 4,
   "metadata": {},
   "outputs": [
    {
     "data": {
      "text/html": [
       "<div>\n",
       "<style scoped>\n",
       "    .dataframe tbody tr th:only-of-type {\n",
       "        vertical-align: middle;\n",
       "    }\n",
       "\n",
       "    .dataframe tbody tr th {\n",
       "        vertical-align: top;\n",
       "    }\n",
       "\n",
       "    .dataframe thead th {\n",
       "        text-align: right;\n",
       "    }\n",
       "</style>\n",
       "<table border=\"1\" class=\"dataframe\">\n",
       "  <thead>\n",
       "    <tr style=\"text-align: right;\">\n",
       "      <th></th>\n",
       "      <th>reviewerID</th>\n",
       "      <th>asin</th>\n",
       "      <th>reviewerName</th>\n",
       "      <th>helpful</th>\n",
       "      <th>reviewText</th>\n",
       "      <th>overall</th>\n",
       "      <th>summary</th>\n",
       "      <th>unixReviewTime</th>\n",
       "      <th>reviewTime</th>\n",
       "    </tr>\n",
       "  </thead>\n",
       "  <tbody>\n",
       "    <tr>\n",
       "      <td>0</td>\n",
       "      <td>A1VXOAVRGKGEAK</td>\n",
       "      <td>0439893577</td>\n",
       "      <td>Angie</td>\n",
       "      <td>[0, 0]</td>\n",
       "      <td>I like the item pricing. My granddaughter want...</td>\n",
       "      <td>5.0</td>\n",
       "      <td>Magnetic board</td>\n",
       "      <td>1390953600</td>\n",
       "      <td>01 29, 2014</td>\n",
       "    </tr>\n",
       "    <tr>\n",
       "      <td>1</td>\n",
       "      <td>A8R62G708TSCM</td>\n",
       "      <td>0439893577</td>\n",
       "      <td>Candace</td>\n",
       "      <td>[1, 1]</td>\n",
       "      <td>Love the magnet easel... great for moving to d...</td>\n",
       "      <td>4.0</td>\n",
       "      <td>it works pretty good for moving to different a...</td>\n",
       "      <td>1395964800</td>\n",
       "      <td>03 28, 2014</td>\n",
       "    </tr>\n",
       "    <tr>\n",
       "      <td>2</td>\n",
       "      <td>A21KH420DK0ICA</td>\n",
       "      <td>0439893577</td>\n",
       "      <td>capemaychristy</td>\n",
       "      <td>[1, 1]</td>\n",
       "      <td>Both sides are magnetic.  A real plus when you...</td>\n",
       "      <td>5.0</td>\n",
       "      <td>love this!</td>\n",
       "      <td>1359331200</td>\n",
       "      <td>01 28, 2013</td>\n",
       "    </tr>\n",
       "    <tr>\n",
       "      <td>3</td>\n",
       "      <td>AR29QK6HPFYZ4</td>\n",
       "      <td>0439893577</td>\n",
       "      <td>dcrm</td>\n",
       "      <td>[0, 0]</td>\n",
       "      <td>Bought one a few years ago for my daughter and...</td>\n",
       "      <td>5.0</td>\n",
       "      <td>Daughters love it</td>\n",
       "      <td>1391817600</td>\n",
       "      <td>02 8, 2014</td>\n",
       "    </tr>\n",
       "    <tr>\n",
       "      <td>4</td>\n",
       "      <td>ACCH8EOML6FN5</td>\n",
       "      <td>0439893577</td>\n",
       "      <td>DoyZ</td>\n",
       "      <td>[1, 1]</td>\n",
       "      <td>I have a stainless steel refrigerator therefor...</td>\n",
       "      <td>4.0</td>\n",
       "      <td>Great to have so he can play with his alphabet...</td>\n",
       "      <td>1399248000</td>\n",
       "      <td>05 5, 2014</td>\n",
       "    </tr>\n",
       "  </tbody>\n",
       "</table>\n",
       "</div>"
      ],
      "text/plain": [
       "       reviewerID        asin    reviewerName helpful  \\\n",
       "0  A1VXOAVRGKGEAK  0439893577           Angie  [0, 0]   \n",
       "1   A8R62G708TSCM  0439893577         Candace  [1, 1]   \n",
       "2  A21KH420DK0ICA  0439893577  capemaychristy  [1, 1]   \n",
       "3   AR29QK6HPFYZ4  0439893577            dcrm  [0, 0]   \n",
       "4   ACCH8EOML6FN5  0439893577            DoyZ  [1, 1]   \n",
       "\n",
       "                                          reviewText  overall  \\\n",
       "0  I like the item pricing. My granddaughter want...      5.0   \n",
       "1  Love the magnet easel... great for moving to d...      4.0   \n",
       "2  Both sides are magnetic.  A real plus when you...      5.0   \n",
       "3  Bought one a few years ago for my daughter and...      5.0   \n",
       "4  I have a stainless steel refrigerator therefor...      4.0   \n",
       "\n",
       "                                             summary  unixReviewTime  \\\n",
       "0                                     Magnetic board      1390953600   \n",
       "1  it works pretty good for moving to different a...      1395964800   \n",
       "2                                         love this!      1359331200   \n",
       "3                                  Daughters love it      1391817600   \n",
       "4  Great to have so he can play with his alphabet...      1399248000   \n",
       "\n",
       "    reviewTime  \n",
       "0  01 29, 2014  \n",
       "1  03 28, 2014  \n",
       "2  01 28, 2013  \n",
       "3   02 8, 2014  \n",
       "4   05 5, 2014  "
      ]
     },
     "execution_count": 4,
     "metadata": {},
     "output_type": "execute_result"
    }
   ],
   "source": [
    "df.head()"
   ]
  },
  {
   "cell_type": "code",
   "execution_count": 5,
   "metadata": {},
   "outputs": [
    {
     "data": {
      "text/html": [
       "<div>\n",
       "<style scoped>\n",
       "    .dataframe tbody tr th:only-of-type {\n",
       "        vertical-align: middle;\n",
       "    }\n",
       "\n",
       "    .dataframe tbody tr th {\n",
       "        vertical-align: top;\n",
       "    }\n",
       "\n",
       "    .dataframe thead th {\n",
       "        text-align: right;\n",
       "    }\n",
       "</style>\n",
       "<table border=\"1\" class=\"dataframe\">\n",
       "  <thead>\n",
       "    <tr style=\"text-align: right;\">\n",
       "      <th></th>\n",
       "      <th>overall</th>\n",
       "      <th>unixReviewTime</th>\n",
       "    </tr>\n",
       "  </thead>\n",
       "  <tbody>\n",
       "    <tr>\n",
       "      <td>count</td>\n",
       "      <td>167597.000000</td>\n",
       "      <td>1.675970e+05</td>\n",
       "    </tr>\n",
       "    <tr>\n",
       "      <td>mean</td>\n",
       "      <td>4.356307</td>\n",
       "      <td>1.348759e+09</td>\n",
       "    </tr>\n",
       "    <tr>\n",
       "      <td>std</td>\n",
       "      <td>0.993501</td>\n",
       "      <td>6.089581e+07</td>\n",
       "    </tr>\n",
       "    <tr>\n",
       "      <td>min</td>\n",
       "      <td>1.000000</td>\n",
       "      <td>9.647424e+08</td>\n",
       "    </tr>\n",
       "    <tr>\n",
       "      <td>25%</td>\n",
       "      <td>4.000000</td>\n",
       "      <td>1.335917e+09</td>\n",
       "    </tr>\n",
       "    <tr>\n",
       "      <td>50%</td>\n",
       "      <td>5.000000</td>\n",
       "      <td>1.364429e+09</td>\n",
       "    </tr>\n",
       "    <tr>\n",
       "      <td>75%</td>\n",
       "      <td>5.000000</td>\n",
       "      <td>1.388016e+09</td>\n",
       "    </tr>\n",
       "    <tr>\n",
       "      <td>max</td>\n",
       "      <td>5.000000</td>\n",
       "      <td>1.406074e+09</td>\n",
       "    </tr>\n",
       "  </tbody>\n",
       "</table>\n",
       "</div>"
      ],
      "text/plain": [
       "             overall  unixReviewTime\n",
       "count  167597.000000    1.675970e+05\n",
       "mean        4.356307    1.348759e+09\n",
       "std         0.993501    6.089581e+07\n",
       "min         1.000000    9.647424e+08\n",
       "25%         4.000000    1.335917e+09\n",
       "50%         5.000000    1.364429e+09\n",
       "75%         5.000000    1.388016e+09\n",
       "max         5.000000    1.406074e+09"
      ]
     },
     "execution_count": 5,
     "metadata": {},
     "output_type": "execute_result"
    }
   ],
   "source": [
    "df.describe()"
   ]
  },
  {
   "cell_type": "code",
   "execution_count": 6,
   "metadata": {},
   "outputs": [],
   "source": [
    "import nltk.classify.util\n",
    "#from nltk.classify import NaiveBayesClassifier\n",
    "import numpy as np\n",
    "import re\n",
    "import string\n",
    "import nltk\n",
    "\n",
    "cleanup_re = re.compile('[^a-z]+')\n",
    "def cleanup(sentence):\n",
    "    sentence = str(sentence)\n",
    "    sentence = sentence.lower()\n",
    "    sentence = cleanup_re.sub(' ', sentence).strip()\n",
    "    #sentence = \" \".join(nltk.word_tokenize(sentence))\n",
    "    return sentence\n",
    "\n",
    "df[\"Summary_Clean\"] = df[\"summary\"].apply(cleanup)\n",
    "df[\"reviewText_Clean\"] = df[\"reviewText\"].apply(cleanup)"
   ]
  },
  {
   "cell_type": "code",
   "execution_count": 7,
   "metadata": {},
   "outputs": [
    {
     "data": {
      "text/html": [
       "<div>\n",
       "<style scoped>\n",
       "    .dataframe tbody tr th:only-of-type {\n",
       "        vertical-align: middle;\n",
       "    }\n",
       "\n",
       "    .dataframe tbody tr th {\n",
       "        vertical-align: top;\n",
       "    }\n",
       "\n",
       "    .dataframe thead th {\n",
       "        text-align: right;\n",
       "    }\n",
       "</style>\n",
       "<table border=\"1\" class=\"dataframe\">\n",
       "  <thead>\n",
       "    <tr style=\"text-align: right;\">\n",
       "      <th></th>\n",
       "      <th>reviewerID</th>\n",
       "      <th>asin</th>\n",
       "      <th>reviewerName</th>\n",
       "      <th>helpful</th>\n",
       "      <th>reviewText</th>\n",
       "      <th>overall</th>\n",
       "      <th>summary</th>\n",
       "      <th>unixReviewTime</th>\n",
       "      <th>reviewTime</th>\n",
       "      <th>Summary_Clean</th>\n",
       "      <th>reviewText_Clean</th>\n",
       "    </tr>\n",
       "  </thead>\n",
       "  <tbody>\n",
       "    <tr>\n",
       "      <td>0</td>\n",
       "      <td>A1VXOAVRGKGEAK</td>\n",
       "      <td>0439893577</td>\n",
       "      <td>Angie</td>\n",
       "      <td>[0, 0]</td>\n",
       "      <td>I like the item pricing. My granddaughter want...</td>\n",
       "      <td>5.0</td>\n",
       "      <td>Magnetic board</td>\n",
       "      <td>1390953600</td>\n",
       "      <td>01 29, 2014</td>\n",
       "      <td>magnetic board</td>\n",
       "      <td>i like the item pricing my granddaughter wante...</td>\n",
       "    </tr>\n",
       "    <tr>\n",
       "      <td>1</td>\n",
       "      <td>A8R62G708TSCM</td>\n",
       "      <td>0439893577</td>\n",
       "      <td>Candace</td>\n",
       "      <td>[1, 1]</td>\n",
       "      <td>Love the magnet easel... great for moving to d...</td>\n",
       "      <td>4.0</td>\n",
       "      <td>it works pretty good for moving to different a...</td>\n",
       "      <td>1395964800</td>\n",
       "      <td>03 28, 2014</td>\n",
       "      <td>it works pretty good for moving to different a...</td>\n",
       "      <td>love the magnet easel great for moving to diff...</td>\n",
       "    </tr>\n",
       "    <tr>\n",
       "      <td>2</td>\n",
       "      <td>A21KH420DK0ICA</td>\n",
       "      <td>0439893577</td>\n",
       "      <td>capemaychristy</td>\n",
       "      <td>[1, 1]</td>\n",
       "      <td>Both sides are magnetic.  A real plus when you...</td>\n",
       "      <td>5.0</td>\n",
       "      <td>love this!</td>\n",
       "      <td>1359331200</td>\n",
       "      <td>01 28, 2013</td>\n",
       "      <td>love this</td>\n",
       "      <td>both sides are magnetic a real plus when you r...</td>\n",
       "    </tr>\n",
       "    <tr>\n",
       "      <td>3</td>\n",
       "      <td>AR29QK6HPFYZ4</td>\n",
       "      <td>0439893577</td>\n",
       "      <td>dcrm</td>\n",
       "      <td>[0, 0]</td>\n",
       "      <td>Bought one a few years ago for my daughter and...</td>\n",
       "      <td>5.0</td>\n",
       "      <td>Daughters love it</td>\n",
       "      <td>1391817600</td>\n",
       "      <td>02 8, 2014</td>\n",
       "      <td>daughters love it</td>\n",
       "      <td>bought one a few years ago for my daughter and...</td>\n",
       "    </tr>\n",
       "    <tr>\n",
       "      <td>4</td>\n",
       "      <td>ACCH8EOML6FN5</td>\n",
       "      <td>0439893577</td>\n",
       "      <td>DoyZ</td>\n",
       "      <td>[1, 1]</td>\n",
       "      <td>I have a stainless steel refrigerator therefor...</td>\n",
       "      <td>4.0</td>\n",
       "      <td>Great to have so he can play with his alphabet...</td>\n",
       "      <td>1399248000</td>\n",
       "      <td>05 5, 2014</td>\n",
       "      <td>great to have so he can play with his alphabet</td>\n",
       "      <td>i have a stainless steel refrigerator therefor...</td>\n",
       "    </tr>\n",
       "  </tbody>\n",
       "</table>\n",
       "</div>"
      ],
      "text/plain": [
       "       reviewerID        asin    reviewerName helpful  \\\n",
       "0  A1VXOAVRGKGEAK  0439893577           Angie  [0, 0]   \n",
       "1   A8R62G708TSCM  0439893577         Candace  [1, 1]   \n",
       "2  A21KH420DK0ICA  0439893577  capemaychristy  [1, 1]   \n",
       "3   AR29QK6HPFYZ4  0439893577            dcrm  [0, 0]   \n",
       "4   ACCH8EOML6FN5  0439893577            DoyZ  [1, 1]   \n",
       "\n",
       "                                          reviewText  overall  \\\n",
       "0  I like the item pricing. My granddaughter want...      5.0   \n",
       "1  Love the magnet easel... great for moving to d...      4.0   \n",
       "2  Both sides are magnetic.  A real plus when you...      5.0   \n",
       "3  Bought one a few years ago for my daughter and...      5.0   \n",
       "4  I have a stainless steel refrigerator therefor...      4.0   \n",
       "\n",
       "                                             summary  unixReviewTime  \\\n",
       "0                                     Magnetic board      1390953600   \n",
       "1  it works pretty good for moving to different a...      1395964800   \n",
       "2                                         love this!      1359331200   \n",
       "3                                  Daughters love it      1391817600   \n",
       "4  Great to have so he can play with his alphabet...      1399248000   \n",
       "\n",
       "    reviewTime                                      Summary_Clean  \\\n",
       "0  01 29, 2014                                     magnetic board   \n",
       "1  03 28, 2014  it works pretty good for moving to different a...   \n",
       "2  01 28, 2013                                          love this   \n",
       "3   02 8, 2014                                  daughters love it   \n",
       "4   05 5, 2014     great to have so he can play with his alphabet   \n",
       "\n",
       "                                    reviewText_Clean  \n",
       "0  i like the item pricing my granddaughter wante...  \n",
       "1  love the magnet easel great for moving to diff...  \n",
       "2  both sides are magnetic a real plus when you r...  \n",
       "3  bought one a few years ago for my daughter and...  \n",
       "4  i have a stainless steel refrigerator therefor...  "
      ]
     },
     "execution_count": 7,
     "metadata": {},
     "output_type": "execute_result"
    }
   ],
   "source": [
    "df.head()"
   ]
  },
  {
   "cell_type": "code",
   "execution_count": 8,
   "metadata": {},
   "outputs": [],
   "source": [
    "#Group by Product\n",
    "tempDf = df[['asin','Summary_Clean']]"
   ]
  },
  {
   "cell_type": "code",
   "execution_count": 9,
   "metadata": {},
   "outputs": [],
   "source": [
    "#New Dataframe with Group by ProductID\n",
    "newdf = tempDf.groupby(['asin'])['Summary_Clean'].apply(lambda x: \". \".join(x.astype(str))).reset_index()"
   ]
  },
  {
   "cell_type": "code",
   "execution_count": 10,
   "metadata": {},
   "outputs": [
    {
     "data": {
      "text/html": [
       "<div>\n",
       "<style scoped>\n",
       "    .dataframe tbody tr th:only-of-type {\n",
       "        vertical-align: middle;\n",
       "    }\n",
       "\n",
       "    .dataframe tbody tr th {\n",
       "        vertical-align: top;\n",
       "    }\n",
       "\n",
       "    .dataframe thead th {\n",
       "        text-align: right;\n",
       "    }\n",
       "</style>\n",
       "<table border=\"1\" class=\"dataframe\">\n",
       "  <thead>\n",
       "    <tr style=\"text-align: right;\">\n",
       "      <th></th>\n",
       "      <th>asin</th>\n",
       "      <th>Summary_Clean</th>\n",
       "    </tr>\n",
       "  </thead>\n",
       "  <tbody>\n",
       "    <tr>\n",
       "      <td>0</td>\n",
       "      <td>0439893577</td>\n",
       "      <td>magnetic board. it works pretty good for movin...</td>\n",
       "    </tr>\n",
       "    <tr>\n",
       "      <td>1</td>\n",
       "      <td>048645195X</td>\n",
       "      <td>intricate. creative soothing and inspirational...</td>\n",
       "    </tr>\n",
       "    <tr>\n",
       "      <td>2</td>\n",
       "      <td>0545496470</td>\n",
       "      <td>book of impossible objects. lots of stuff. gre...</td>\n",
       "    </tr>\n",
       "    <tr>\n",
       "      <td>3</td>\n",
       "      <td>0615444172</td>\n",
       "      <td>good book. two year old loves this. great stic...</td>\n",
       "    </tr>\n",
       "    <tr>\n",
       "      <td>4</td>\n",
       "      <td>0670010936</td>\n",
       "      <td>llama llama cuddly. love these books. not so c...</td>\n",
       "    </tr>\n",
       "  </tbody>\n",
       "</table>\n",
       "</div>"
      ],
      "text/plain": [
       "         asin                                      Summary_Clean\n",
       "0  0439893577  magnetic board. it works pretty good for movin...\n",
       "1  048645195X  intricate. creative soothing and inspirational...\n",
       "2  0545496470  book of impossible objects. lots of stuff. gre...\n",
       "3  0615444172  good book. two year old loves this. great stic...\n",
       "4  0670010936  llama llama cuddly. love these books. not so c..."
      ]
     },
     "execution_count": 10,
     "metadata": {},
     "output_type": "execute_result"
    }
   ],
   "source": [
    "#Check the DataFrame\n",
    "#Summary for each individual product\n",
    "newdf.head()"
   ]
  },
  {
   "cell_type": "code",
   "execution_count": 11,
   "metadata": {},
   "outputs": [
    {
     "data": {
      "text/plain": [
       "'magnetic board. it works pretty good for moving to different areas. love this. daughters love it. great to have so he can play with his alphabet. grandma. serves the purpose. great. a must have for any homeschooling classroom. nifty little thing. works great. perfect magnetic board. not very durable. great magnet board. every child should have this. quality product. great size'"
      ]
     },
     "execution_count": 11,
     "metadata": {},
     "output_type": "execute_result"
    }
   ],
   "source": [
    "#Check whether each summary got combined?\n",
    "newdf.iloc[0,1]"
   ]
  },
  {
   "cell_type": "code",
   "execution_count": 12,
   "metadata": {},
   "outputs": [],
   "source": [
    "#Creating temporary DF for MCS Score\n",
    "temp_df=df"
   ]
  },
  {
   "cell_type": "code",
   "execution_count": 13,
   "metadata": {},
   "outputs": [],
   "source": [
    "#Creating variables to find MCS score\n",
    "#import numpy as np\n",
    "from tqdm import tqdm_notebook\n",
    "df['help'] = df.apply(lambda row:int(row.helpful[0]), axis = 1)"
   ]
  },
  {
   "cell_type": "code",
   "execution_count": 14,
   "metadata": {},
   "outputs": [],
   "source": [
    "#Smoothing the data\n",
    "df['augumented'] = df.apply(lambda row: int(row.overall)*(row.help+1),axis = 1)"
   ]
  },
  {
   "cell_type": "code",
   "execution_count": 15,
   "metadata": {},
   "outputs": [],
   "source": [
    "#Smoothing the data\n",
    "df['help'] = df.apply(lambda row:row.help+1,axis =1)"
   ]
  },
  {
   "cell_type": "code",
   "execution_count": 16,
   "metadata": {},
   "outputs": [
    {
     "data": {
      "text/html": [
       "<div>\n",
       "<style scoped>\n",
       "    .dataframe tbody tr th:only-of-type {\n",
       "        vertical-align: middle;\n",
       "    }\n",
       "\n",
       "    .dataframe tbody tr th {\n",
       "        vertical-align: top;\n",
       "    }\n",
       "\n",
       "    .dataframe thead th {\n",
       "        text-align: right;\n",
       "    }\n",
       "</style>\n",
       "<table border=\"1\" class=\"dataframe\">\n",
       "  <thead>\n",
       "    <tr style=\"text-align: right;\">\n",
       "      <th></th>\n",
       "      <th>reviewerID</th>\n",
       "      <th>asin</th>\n",
       "      <th>reviewerName</th>\n",
       "      <th>helpful</th>\n",
       "      <th>reviewText</th>\n",
       "      <th>overall</th>\n",
       "      <th>summary</th>\n",
       "      <th>unixReviewTime</th>\n",
       "      <th>reviewTime</th>\n",
       "      <th>Summary_Clean</th>\n",
       "      <th>reviewText_Clean</th>\n",
       "      <th>help</th>\n",
       "      <th>augumented</th>\n",
       "    </tr>\n",
       "  </thead>\n",
       "  <tbody>\n",
       "    <tr>\n",
       "      <td>0</td>\n",
       "      <td>A1VXOAVRGKGEAK</td>\n",
       "      <td>0439893577</td>\n",
       "      <td>Angie</td>\n",
       "      <td>[0, 0]</td>\n",
       "      <td>I like the item pricing. My granddaughter want...</td>\n",
       "      <td>5.0</td>\n",
       "      <td>Magnetic board</td>\n",
       "      <td>1390953600</td>\n",
       "      <td>01 29, 2014</td>\n",
       "      <td>magnetic board</td>\n",
       "      <td>i like the item pricing my granddaughter wante...</td>\n",
       "      <td>1</td>\n",
       "      <td>5</td>\n",
       "    </tr>\n",
       "    <tr>\n",
       "      <td>1</td>\n",
       "      <td>A8R62G708TSCM</td>\n",
       "      <td>0439893577</td>\n",
       "      <td>Candace</td>\n",
       "      <td>[1, 1]</td>\n",
       "      <td>Love the magnet easel... great for moving to d...</td>\n",
       "      <td>4.0</td>\n",
       "      <td>it works pretty good for moving to different a...</td>\n",
       "      <td>1395964800</td>\n",
       "      <td>03 28, 2014</td>\n",
       "      <td>it works pretty good for moving to different a...</td>\n",
       "      <td>love the magnet easel great for moving to diff...</td>\n",
       "      <td>2</td>\n",
       "      <td>8</td>\n",
       "    </tr>\n",
       "    <tr>\n",
       "      <td>2</td>\n",
       "      <td>A21KH420DK0ICA</td>\n",
       "      <td>0439893577</td>\n",
       "      <td>capemaychristy</td>\n",
       "      <td>[1, 1]</td>\n",
       "      <td>Both sides are magnetic.  A real plus when you...</td>\n",
       "      <td>5.0</td>\n",
       "      <td>love this!</td>\n",
       "      <td>1359331200</td>\n",
       "      <td>01 28, 2013</td>\n",
       "      <td>love this</td>\n",
       "      <td>both sides are magnetic a real plus when you r...</td>\n",
       "      <td>2</td>\n",
       "      <td>10</td>\n",
       "    </tr>\n",
       "    <tr>\n",
       "      <td>3</td>\n",
       "      <td>AR29QK6HPFYZ4</td>\n",
       "      <td>0439893577</td>\n",
       "      <td>dcrm</td>\n",
       "      <td>[0, 0]</td>\n",
       "      <td>Bought one a few years ago for my daughter and...</td>\n",
       "      <td>5.0</td>\n",
       "      <td>Daughters love it</td>\n",
       "      <td>1391817600</td>\n",
       "      <td>02 8, 2014</td>\n",
       "      <td>daughters love it</td>\n",
       "      <td>bought one a few years ago for my daughter and...</td>\n",
       "      <td>1</td>\n",
       "      <td>5</td>\n",
       "    </tr>\n",
       "    <tr>\n",
       "      <td>4</td>\n",
       "      <td>ACCH8EOML6FN5</td>\n",
       "      <td>0439893577</td>\n",
       "      <td>DoyZ</td>\n",
       "      <td>[1, 1]</td>\n",
       "      <td>I have a stainless steel refrigerator therefor...</td>\n",
       "      <td>4.0</td>\n",
       "      <td>Great to have so he can play with his alphabet...</td>\n",
       "      <td>1399248000</td>\n",
       "      <td>05 5, 2014</td>\n",
       "      <td>great to have so he can play with his alphabet</td>\n",
       "      <td>i have a stainless steel refrigerator therefor...</td>\n",
       "      <td>2</td>\n",
       "      <td>8</td>\n",
       "    </tr>\n",
       "  </tbody>\n",
       "</table>\n",
       "</div>"
      ],
      "text/plain": [
       "       reviewerID        asin    reviewerName helpful  \\\n",
       "0  A1VXOAVRGKGEAK  0439893577           Angie  [0, 0]   \n",
       "1   A8R62G708TSCM  0439893577         Candace  [1, 1]   \n",
       "2  A21KH420DK0ICA  0439893577  capemaychristy  [1, 1]   \n",
       "3   AR29QK6HPFYZ4  0439893577            dcrm  [0, 0]   \n",
       "4   ACCH8EOML6FN5  0439893577            DoyZ  [1, 1]   \n",
       "\n",
       "                                          reviewText  overall  \\\n",
       "0  I like the item pricing. My granddaughter want...      5.0   \n",
       "1  Love the magnet easel... great for moving to d...      4.0   \n",
       "2  Both sides are magnetic.  A real plus when you...      5.0   \n",
       "3  Bought one a few years ago for my daughter and...      5.0   \n",
       "4  I have a stainless steel refrigerator therefor...      4.0   \n",
       "\n",
       "                                             summary  unixReviewTime  \\\n",
       "0                                     Magnetic board      1390953600   \n",
       "1  it works pretty good for moving to different a...      1395964800   \n",
       "2                                         love this!      1359331200   \n",
       "3                                  Daughters love it      1391817600   \n",
       "4  Great to have so he can play with his alphabet...      1399248000   \n",
       "\n",
       "    reviewTime                                      Summary_Clean  \\\n",
       "0  01 29, 2014                                     magnetic board   \n",
       "1  03 28, 2014  it works pretty good for moving to different a...   \n",
       "2  01 28, 2013                                          love this   \n",
       "3   02 8, 2014                                  daughters love it   \n",
       "4   05 5, 2014     great to have so he can play with his alphabet   \n",
       "\n",
       "                                    reviewText_Clean  help  augumented  \n",
       "0  i like the item pricing my granddaughter wante...     1           5  \n",
       "1  love the magnet easel great for moving to diff...     2           8  \n",
       "2  both sides are magnetic a real plus when you r...     2          10  \n",
       "3  bought one a few years ago for my daughter and...     1           5  \n",
       "4  i have a stainless steel refrigerator therefor...     2           8  "
      ]
     },
     "execution_count": 16,
     "metadata": {},
     "output_type": "execute_result"
    }
   ],
   "source": [
    "#Check the dataframe\n",
    "df.head()"
   ]
  },
  {
   "cell_type": "code",
   "execution_count": 17,
   "metadata": {},
   "outputs": [],
   "source": [
    "#Reset the Index\n",
    "ttdf = df.groupby(['asin'])['augumented'].apply(lambda x: sum(x)).reset_index()"
   ]
  },
  {
   "cell_type": "code",
   "execution_count": 18,
   "metadata": {},
   "outputs": [],
   "source": [
    "#Reset the Index\n",
    "tt1df = df.groupby(['asin'])['help'].apply(lambda x: sum(x)).reset_index()"
   ]
  },
  {
   "cell_type": "code",
   "execution_count": 19,
   "metadata": {},
   "outputs": [],
   "source": [
    "#Attaching help for tt1df\n",
    "ttdf['help'] = tt1df['help'] "
   ]
  },
  {
   "cell_type": "code",
   "execution_count": 20,
   "metadata": {},
   "outputs": [
    {
     "data": {
      "text/html": [
       "<div>\n",
       "<style scoped>\n",
       "    .dataframe tbody tr th:only-of-type {\n",
       "        vertical-align: middle;\n",
       "    }\n",
       "\n",
       "    .dataframe tbody tr th {\n",
       "        vertical-align: top;\n",
       "    }\n",
       "\n",
       "    .dataframe thead th {\n",
       "        text-align: right;\n",
       "    }\n",
       "</style>\n",
       "<table border=\"1\" class=\"dataframe\">\n",
       "  <thead>\n",
       "    <tr style=\"text-align: right;\">\n",
       "      <th></th>\n",
       "      <th>asin</th>\n",
       "      <th>augumented</th>\n",
       "      <th>help</th>\n",
       "    </tr>\n",
       "  </thead>\n",
       "  <tbody>\n",
       "    <tr>\n",
       "      <td>0</td>\n",
       "      <td>0439893577</td>\n",
       "      <td>379</td>\n",
       "      <td>102</td>\n",
       "    </tr>\n",
       "    <tr>\n",
       "      <td>1</td>\n",
       "      <td>048645195X</td>\n",
       "      <td>170</td>\n",
       "      <td>38</td>\n",
       "    </tr>\n",
       "    <tr>\n",
       "      <td>2</td>\n",
       "      <td>0545496470</td>\n",
       "      <td>48</td>\n",
       "      <td>15</td>\n",
       "    </tr>\n",
       "    <tr>\n",
       "      <td>3</td>\n",
       "      <td>0615444172</td>\n",
       "      <td>60</td>\n",
       "      <td>12</td>\n",
       "    </tr>\n",
       "    <tr>\n",
       "      <td>4</td>\n",
       "      <td>0670010936</td>\n",
       "      <td>56</td>\n",
       "      <td>14</td>\n",
       "    </tr>\n",
       "  </tbody>\n",
       "</table>\n",
       "</div>"
      ],
      "text/plain": [
       "         asin  augumented  help\n",
       "0  0439893577         379   102\n",
       "1  048645195X         170    38\n",
       "2  0545496470          48    15\n",
       "3  0615444172          60    12\n",
       "4  0670010936          56    14"
      ]
     },
     "execution_count": 20,
     "metadata": {},
     "output_type": "execute_result"
    }
   ],
   "source": [
    "#Check the DataFrame\n",
    "ttdf.head()"
   ]
  },
  {
   "cell_type": "code",
   "execution_count": 21,
   "metadata": {},
   "outputs": [],
   "source": [
    "#Calculating MCS Score\n",
    "ttdf['MCS'] = ttdf.apply(lambda row:float(row.augumented/row.help),axis = 1)"
   ]
  },
  {
   "cell_type": "code",
   "execution_count": 22,
   "metadata": {},
   "outputs": [],
   "source": [
    "#Attaching for DataFrame\n",
    "newdf[\"MCS\"]=ttdf[\"MCS\"]"
   ]
  },
  {
   "cell_type": "code",
   "execution_count": 23,
   "metadata": {},
   "outputs": [],
   "source": [
    "#Assigning for final DataFrame\n",
    "Finaldf=newdf"
   ]
  },
  {
   "cell_type": "code",
   "execution_count": 24,
   "metadata": {},
   "outputs": [
    {
     "data": {
      "text/html": [
       "<div>\n",
       "<style scoped>\n",
       "    .dataframe tbody tr th:only-of-type {\n",
       "        vertical-align: middle;\n",
       "    }\n",
       "\n",
       "    .dataframe tbody tr th {\n",
       "        vertical-align: top;\n",
       "    }\n",
       "\n",
       "    .dataframe thead th {\n",
       "        text-align: right;\n",
       "    }\n",
       "</style>\n",
       "<table border=\"1\" class=\"dataframe\">\n",
       "  <thead>\n",
       "    <tr style=\"text-align: right;\">\n",
       "      <th></th>\n",
       "      <th>asin</th>\n",
       "      <th>Summary_Clean</th>\n",
       "      <th>MCS</th>\n",
       "    </tr>\n",
       "  </thead>\n",
       "  <tbody>\n",
       "    <tr>\n",
       "      <td>0</td>\n",
       "      <td>0439893577</td>\n",
       "      <td>magnetic board. it works pretty good for movin...</td>\n",
       "      <td>3.715686</td>\n",
       "    </tr>\n",
       "    <tr>\n",
       "      <td>1</td>\n",
       "      <td>048645195X</td>\n",
       "      <td>intricate. creative soothing and inspirational...</td>\n",
       "      <td>4.473684</td>\n",
       "    </tr>\n",
       "    <tr>\n",
       "      <td>2</td>\n",
       "      <td>0545496470</td>\n",
       "      <td>book of impossible objects. lots of stuff. gre...</td>\n",
       "      <td>3.200000</td>\n",
       "    </tr>\n",
       "    <tr>\n",
       "      <td>3</td>\n",
       "      <td>0615444172</td>\n",
       "      <td>good book. two year old loves this. great stic...</td>\n",
       "      <td>5.000000</td>\n",
       "    </tr>\n",
       "    <tr>\n",
       "      <td>4</td>\n",
       "      <td>0670010936</td>\n",
       "      <td>llama llama cuddly. love these books. not so c...</td>\n",
       "      <td>4.000000</td>\n",
       "    </tr>\n",
       "  </tbody>\n",
       "</table>\n",
       "</div>"
      ],
      "text/plain": [
       "         asin                                      Summary_Clean       MCS\n",
       "0  0439893577  magnetic board. it works pretty good for movin...  3.715686\n",
       "1  048645195X  intricate. creative soothing and inspirational...  4.473684\n",
       "2  0545496470  book of impossible objects. lots of stuff. gre...  3.200000\n",
       "3  0615444172  good book. two year old loves this. great stic...  5.000000\n",
       "4  0670010936  llama llama cuddly. love these books. not so c...  4.000000"
      ]
     },
     "execution_count": 24,
     "metadata": {},
     "output_type": "execute_result"
    }
   ],
   "source": [
    "#Checking head for DataFrame\n",
    "Finaldf.head()"
   ]
  },
  {
   "cell_type": "code",
   "execution_count": 27,
   "metadata": {},
   "outputs": [],
   "source": [
    "#Truncating the value for MCS\n",
    "Finaldf['MCS']=Finaldf['MCS'].apply(lambda x: round(x,2))\n"
   ]
  },
  {
   "cell_type": "code",
   "execution_count": 28,
   "metadata": {},
   "outputs": [
    {
     "data": {
      "text/html": [
       "<div>\n",
       "<style scoped>\n",
       "    .dataframe tbody tr th:only-of-type {\n",
       "        vertical-align: middle;\n",
       "    }\n",
       "\n",
       "    .dataframe tbody tr th {\n",
       "        vertical-align: top;\n",
       "    }\n",
       "\n",
       "    .dataframe thead th {\n",
       "        text-align: right;\n",
       "    }\n",
       "</style>\n",
       "<table border=\"1\" class=\"dataframe\">\n",
       "  <thead>\n",
       "    <tr style=\"text-align: right;\">\n",
       "      <th></th>\n",
       "      <th>asin</th>\n",
       "      <th>Summary_Clean</th>\n",
       "      <th>MCS</th>\n",
       "    </tr>\n",
       "  </thead>\n",
       "  <tbody>\n",
       "    <tr>\n",
       "      <td>0</td>\n",
       "      <td>0439893577</td>\n",
       "      <td>magnetic board. it works pretty good for movin...</td>\n",
       "      <td>3.72</td>\n",
       "    </tr>\n",
       "    <tr>\n",
       "      <td>1</td>\n",
       "      <td>048645195X</td>\n",
       "      <td>intricate. creative soothing and inspirational...</td>\n",
       "      <td>4.47</td>\n",
       "    </tr>\n",
       "    <tr>\n",
       "      <td>2</td>\n",
       "      <td>0545496470</td>\n",
       "      <td>book of impossible objects. lots of stuff. gre...</td>\n",
       "      <td>3.20</td>\n",
       "    </tr>\n",
       "    <tr>\n",
       "      <td>3</td>\n",
       "      <td>0615444172</td>\n",
       "      <td>good book. two year old loves this. great stic...</td>\n",
       "      <td>5.00</td>\n",
       "    </tr>\n",
       "    <tr>\n",
       "      <td>4</td>\n",
       "      <td>0670010936</td>\n",
       "      <td>llama llama cuddly. love these books. not so c...</td>\n",
       "      <td>4.00</td>\n",
       "    </tr>\n",
       "  </tbody>\n",
       "</table>\n",
       "</div>"
      ],
      "text/plain": [
       "         asin                                      Summary_Clean   MCS\n",
       "0  0439893577  magnetic board. it works pretty good for movin...  3.72\n",
       "1  048645195X  intricate. creative soothing and inspirational...  4.47\n",
       "2  0545496470  book of impossible objects. lots of stuff. gre...  3.20\n",
       "3  0615444172  good book. two year old loves this. great stic...  5.00\n",
       "4  0670010936  llama llama cuddly. love these books. not so c...  4.00"
      ]
     },
     "execution_count": 28,
     "metadata": {},
     "output_type": "execute_result"
    }
   ],
   "source": [
    "Finaldf.head()"
   ]
  },
  {
   "cell_type": "code",
   "execution_count": 29,
   "metadata": {},
   "outputs": [
    {
     "data": {
      "text/plain": [
       "11924"
      ]
     },
     "execution_count": 29,
     "metadata": {},
     "output_type": "execute_result"
    }
   ],
   "source": [
    "#Length of Unique products\n",
    "len(Finaldf)"
   ]
  },
  {
   "cell_type": "code",
   "execution_count": 30,
   "metadata": {},
   "outputs": [
    {
     "data": {
      "text/plain": [
       "'magnetic board. it works pretty good for moving to different areas. love this. daughters love it. great to have so he can play with his alphabet. grandma. serves the purpose. great. a must have for any homeschooling classroom. nifty little thing. works great. perfect magnetic board. not very durable. great magnet board. every child should have this. quality product. great size'"
      ]
     },
     "execution_count": 30,
     "metadata": {},
     "output_type": "execute_result"
    }
   ],
   "source": [
    "#Check whether the summary got concatenated\n",
    "Finaldf.iloc[0,1]"
   ]
  },
  {
   "cell_type": "code",
   "execution_count": null,
   "metadata": {},
   "outputs": [],
   "source": []
  }
 ],
 "metadata": {
  "kernelspec": {
   "display_name": "Python 3",
   "language": "python",
   "name": "python3"
  },
  "language_info": {
   "codemirror_mode": {
    "name": "ipython",
    "version": 3
   },
   "file_extension": ".py",
   "mimetype": "text/x-python",
   "name": "python",
   "nbconvert_exporter": "python",
   "pygments_lexer": "ipython3",
   "version": "3.7.1"
  }
 },
 "nbformat": 4,
 "nbformat_minor": 2
}
